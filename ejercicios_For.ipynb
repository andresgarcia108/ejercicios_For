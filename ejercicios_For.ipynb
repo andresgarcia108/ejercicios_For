{
  "nbformat": 4,
  "nbformat_minor": 0,
  "metadata": {
    "colab": {
      "provenance": [],
      "authorship_tag": "ABX9TyMWcsumMN4KkiK8hBburDc3",
      "include_colab_link": true
    },
    "kernelspec": {
      "name": "python3",
      "display_name": "Python 3"
    },
    "language_info": {
      "name": "python"
    }
  },
  "cells": [
    {
      "cell_type": "markdown",
      "metadata": {
        "id": "view-in-github",
        "colab_type": "text"
      },
      "source": [
        "<a href=\"https://colab.research.google.com/github/andresgarcia108/ejercicios_For/blob/main/ejercicios_For.ipynb\" target=\"_parent\"><img src=\"https://colab.research.google.com/assets/colab-badge.svg\" alt=\"Open In Colab\"/></a>"
      ]
    },
    {
      "cell_type": "markdown",
      "source": [
        "# Instrucción repetitiva for"
      ],
      "metadata": {
        "id": "GipIegSfq9JA"
      }
    },
    {
      "cell_type": "code",
      "execution_count": null,
      "metadata": {
        "id": "RWGhnzbgqio8"
      },
      "outputs": [],
      "source": [
        "# Ejercicio 1 : Mostrar los números del 1 al 10 sin usar instrucciones repetitivas\n",
        "\n",
        "print(1)\n",
        "print(2)\n",
        "print(3)\n",
        "print(4)\n",
        "print(5)\n",
        "print(6)\n",
        "print(7)\n",
        "print(8)\n",
        "print(9)\n",
        "print(10)"
      ]
    },
    {
      "cell_type": "code",
      "source": [
        "# Ejercicio 2 : Mostrar los números del 1 al 10 usando la instrucción repetitiva while\n",
        "\n",
        "i = 0\n",
        "while i <10:\n",
        "  i+=1\n",
        "  print(i)\n",
        "\n",
        "\n",
        "\n",
        "\n"
      ],
      "metadata": {
        "id": "nmwVFedgteWB"
      },
      "execution_count": null,
      "outputs": []
    },
    {
      "cell_type": "code",
      "source": [
        "# Ejercicio 3: Mostrar los números del 1 a 10 usando for y una lista\n",
        "\n",
        "for i in [1,2,3,4,5,6,7,8,9,10]:\n",
        "  print(i)\n",
        "  "
      ],
      "metadata": {
        "id": "Q2Js_iGWvMJX"
      },
      "execution_count": null,
      "outputs": []
    },
    {
      "cell_type": "code",
      "source": [
        "# Ejercicio 4: Mostrar los números del 1 al 10 usando for y la función range\n",
        "\n",
        "for i in range (1,11):\n",
        "  print(i)"
      ],
      "metadata": {
        "id": "AFlTvnpPwzK4"
      },
      "execution_count": null,
      "outputs": []
    },
    {
      "cell_type": "code",
      "source": [
        "# Ejercicio 5: Mostrar una frase 10 veces usando la instrucción for y una lista\n",
        "\n",
        "lista = [1,2,3,4,5,6,7,8,9,10]\n",
        "for i in lista:\n",
        "  print(f\"{i} Sistemas el mejor\")"
      ],
      "metadata": {
        "id": "Bm1aSYVKxs5p"
      },
      "execution_count": null,
      "outputs": []
    },
    {
      "cell_type": "code",
      "source": [
        "# Ejercicio 6: Mostrar la sílaba inicial de los días de la semana usando for y una lista con la sílaba inicial de los días de la semana\n",
        "\n",
        "dias_semana = [\"Lu\", \"Ma\", \"Mi\", \"Ju\", \"Vi\", \"Sa\", \"Do\"]\n",
        "for i in dias_semana:\n",
        "  print(i)"
      ],
      "metadata": {
        "id": "kID3_Pltyhdi"
      },
      "execution_count": null,
      "outputs": []
    },
    {
      "cell_type": "code",
      "source": [
        "# Ejercicio 7: Mostrar una lista de distintos tipos de datos usando for\n",
        "\n",
        "lista = [1, 3.4, 9, True, \"Andrés\", 22, \"Guanentá\"]\n",
        "\n",
        "for i in lista:\n",
        "  print(i)"
      ],
      "metadata": {
        "id": "9JeqUEtvzqGX"
      },
      "execution_count": null,
      "outputs": []
    },
    {
      "cell_type": "code",
      "source": [
        "# Ejercicio 8: Ingresar su nombre y mostrarlo letra por letra usando for\n",
        "\n",
        "nombre = input(\"Digite su nombre: \")\n",
        "for i in nombre:\n",
        "  print(i)"
      ],
      "metadata": {
        "id": "5umJFHb-0HJw"
      },
      "execution_count": null,
      "outputs": []
    },
    {
      "cell_type": "code",
      "source": [
        "# Ejercicio 9: Ingresar su nombre y mostrarlo letra a letra usando for, pero cambiando por * la vocal e\n",
        "\n",
        "nombre = input(\"Digite su nombre: \")\n",
        "for letra in nombre:\n",
        "  if letra == \"e\" or \"é\":\n",
        "    print(\"*\")\n",
        "  else:\n",
        "    print(letra)\n"
      ],
      "metadata": {
        "id": "pC4amswb0laQ"
      },
      "execution_count": null,
      "outputs": []
    },
    {
      "cell_type": "code",
      "source": [
        "# Ejercicio 10: Ingresar su nombre y mostrarlo letra a letra en mayúscula usando for\n",
        "\n",
        "nombre = input(\"Digite su nombre: \")\n",
        "for letra in nombre:\n",
        "  print(letra.upper())"
      ],
      "metadata": {
        "id": "tN9vWMAp112_"
      },
      "execution_count": null,
      "outputs": []
    },
    {
      "cell_type": "code",
      "source": [
        "# Ejercicio 11: Imprimir listas de números usando range y for\n",
        "\n",
        "print(\"Mostrar números del 0 al 9\")\n",
        "\n",
        "for i in range(10):\n",
        "  print(i)\n",
        "\n",
        "print (\"Mostrar números del 1 al 10\")\n",
        "\n",
        "for i in range(11):\n",
        "  print(i)\n",
        "\n",
        "print(\"10 veces una frase\")\n",
        "\n",
        "for i in range(10):\n",
        "  print(\"Sistemas el mejor\")\n",
        "\n",
        "print(\"10 veces la frase i = \")\n",
        "\n",
        "for i in range(10):\n",
        "  print(f\" i = {i}\")\n",
        "\n",
        "print(\"Rango del 7 al 18 incrementando de 4 en 4\")\n",
        "for i in range(7, 19 ,4):\n",
        "  print(i)\n",
        "\n",
        "print(\"Convierte rango en lista a y la muestra\")\n",
        "\n",
        "a = list(range(1000))\n",
        "print(a)"
      ],
      "metadata": {
        "id": "9PBhjGwzAnJh"
      },
      "execution_count": null,
      "outputs": []
    }
  ]
}